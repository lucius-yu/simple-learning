{
  "nbformat": 4,
  "nbformat_minor": 0,
  "metadata": {
    "colab": {
      "provenance": [],
      "authorship_tag": "ABX9TyN7OFBzONR4OQfuicgV6vH9",
      "include_colab_link": true
    },
    "kernelspec": {
      "name": "python3",
      "display_name": "Python 3"
    },
    "language_info": {
      "name": "python"
    },
    "accelerator": "GPU",
    "widgets": {
      "application/vnd.jupyter.widget-state+json": {
        "1799684c5cfe40d49914bc0e342dc33f": {
          "model_module": "@jupyter-widgets/controls",
          "model_name": "HBoxModel",
          "model_module_version": "1.5.0",
          "state": {
            "_dom_classes": [],
            "_model_module": "@jupyter-widgets/controls",
            "_model_module_version": "1.5.0",
            "_model_name": "HBoxModel",
            "_view_count": null,
            "_view_module": "@jupyter-widgets/controls",
            "_view_module_version": "1.5.0",
            "_view_name": "HBoxView",
            "box_style": "",
            "children": [
              "IPY_MODEL_9a2529f630ef4774a0d71ecc37cc9359",
              "IPY_MODEL_cef908a7173746429fa43e131a37f902",
              "IPY_MODEL_bd00e7ac209b4626b121943ea104351b"
            ],
            "layout": "IPY_MODEL_088c06b8690b487b963a226177917327"
          }
        },
        "9a2529f630ef4774a0d71ecc37cc9359": {
          "model_module": "@jupyter-widgets/controls",
          "model_name": "HTMLModel",
          "model_module_version": "1.5.0",
          "state": {
            "_dom_classes": [],
            "_model_module": "@jupyter-widgets/controls",
            "_model_module_version": "1.5.0",
            "_model_name": "HTMLModel",
            "_view_count": null,
            "_view_module": "@jupyter-widgets/controls",
            "_view_module_version": "1.5.0",
            "_view_name": "HTMLView",
            "description": "",
            "description_tooltip": null,
            "layout": "IPY_MODEL_166360a67bb14f2eb059a1dbd06f5a30",
            "placeholder": "​",
            "style": "IPY_MODEL_41d2bc38fb3444ba875795438c0c302c",
            "value": "100%"
          }
        },
        "cef908a7173746429fa43e131a37f902": {
          "model_module": "@jupyter-widgets/controls",
          "model_name": "FloatProgressModel",
          "model_module_version": "1.5.0",
          "state": {
            "_dom_classes": [],
            "_model_module": "@jupyter-widgets/controls",
            "_model_module_version": "1.5.0",
            "_model_name": "FloatProgressModel",
            "_view_count": null,
            "_view_module": "@jupyter-widgets/controls",
            "_view_module_version": "1.5.0",
            "_view_name": "ProgressView",
            "bar_style": "success",
            "description": "",
            "description_tooltip": null,
            "layout": "IPY_MODEL_8abf8d2d6ed849ec89bb03d0b055b03b",
            "max": 9912422,
            "min": 0,
            "orientation": "horizontal",
            "style": "IPY_MODEL_33b55b897b4e4fd1b0791e08b1277022",
            "value": 9912422
          }
        },
        "bd00e7ac209b4626b121943ea104351b": {
          "model_module": "@jupyter-widgets/controls",
          "model_name": "HTMLModel",
          "model_module_version": "1.5.0",
          "state": {
            "_dom_classes": [],
            "_model_module": "@jupyter-widgets/controls",
            "_model_module_version": "1.5.0",
            "_model_name": "HTMLModel",
            "_view_count": null,
            "_view_module": "@jupyter-widgets/controls",
            "_view_module_version": "1.5.0",
            "_view_name": "HTMLView",
            "description": "",
            "description_tooltip": null,
            "layout": "IPY_MODEL_48037384c1da4408861b6e9105caeb69",
            "placeholder": "​",
            "style": "IPY_MODEL_82183755d35d47e38b89abac1c8c57c8",
            "value": " 9912422/9912422 [00:00&lt;00:00, 18817336.24it/s]"
          }
        },
        "088c06b8690b487b963a226177917327": {
          "model_module": "@jupyter-widgets/base",
          "model_name": "LayoutModel",
          "model_module_version": "1.2.0",
          "state": {
            "_model_module": "@jupyter-widgets/base",
            "_model_module_version": "1.2.0",
            "_model_name": "LayoutModel",
            "_view_count": null,
            "_view_module": "@jupyter-widgets/base",
            "_view_module_version": "1.2.0",
            "_view_name": "LayoutView",
            "align_content": null,
            "align_items": null,
            "align_self": null,
            "border": null,
            "bottom": null,
            "display": null,
            "flex": null,
            "flex_flow": null,
            "grid_area": null,
            "grid_auto_columns": null,
            "grid_auto_flow": null,
            "grid_auto_rows": null,
            "grid_column": null,
            "grid_gap": null,
            "grid_row": null,
            "grid_template_areas": null,
            "grid_template_columns": null,
            "grid_template_rows": null,
            "height": null,
            "justify_content": null,
            "justify_items": null,
            "left": null,
            "margin": null,
            "max_height": null,
            "max_width": null,
            "min_height": null,
            "min_width": null,
            "object_fit": null,
            "object_position": null,
            "order": null,
            "overflow": null,
            "overflow_x": null,
            "overflow_y": null,
            "padding": null,
            "right": null,
            "top": null,
            "visibility": null,
            "width": null
          }
        },
        "166360a67bb14f2eb059a1dbd06f5a30": {
          "model_module": "@jupyter-widgets/base",
          "model_name": "LayoutModel",
          "model_module_version": "1.2.0",
          "state": {
            "_model_module": "@jupyter-widgets/base",
            "_model_module_version": "1.2.0",
            "_model_name": "LayoutModel",
            "_view_count": null,
            "_view_module": "@jupyter-widgets/base",
            "_view_module_version": "1.2.0",
            "_view_name": "LayoutView",
            "align_content": null,
            "align_items": null,
            "align_self": null,
            "border": null,
            "bottom": null,
            "display": null,
            "flex": null,
            "flex_flow": null,
            "grid_area": null,
            "grid_auto_columns": null,
            "grid_auto_flow": null,
            "grid_auto_rows": null,
            "grid_column": null,
            "grid_gap": null,
            "grid_row": null,
            "grid_template_areas": null,
            "grid_template_columns": null,
            "grid_template_rows": null,
            "height": null,
            "justify_content": null,
            "justify_items": null,
            "left": null,
            "margin": null,
            "max_height": null,
            "max_width": null,
            "min_height": null,
            "min_width": null,
            "object_fit": null,
            "object_position": null,
            "order": null,
            "overflow": null,
            "overflow_x": null,
            "overflow_y": null,
            "padding": null,
            "right": null,
            "top": null,
            "visibility": null,
            "width": null
          }
        },
        "41d2bc38fb3444ba875795438c0c302c": {
          "model_module": "@jupyter-widgets/controls",
          "model_name": "DescriptionStyleModel",
          "model_module_version": "1.5.0",
          "state": {
            "_model_module": "@jupyter-widgets/controls",
            "_model_module_version": "1.5.0",
            "_model_name": "DescriptionStyleModel",
            "_view_count": null,
            "_view_module": "@jupyter-widgets/base",
            "_view_module_version": "1.2.0",
            "_view_name": "StyleView",
            "description_width": ""
          }
        },
        "8abf8d2d6ed849ec89bb03d0b055b03b": {
          "model_module": "@jupyter-widgets/base",
          "model_name": "LayoutModel",
          "model_module_version": "1.2.0",
          "state": {
            "_model_module": "@jupyter-widgets/base",
            "_model_module_version": "1.2.0",
            "_model_name": "LayoutModel",
            "_view_count": null,
            "_view_module": "@jupyter-widgets/base",
            "_view_module_version": "1.2.0",
            "_view_name": "LayoutView",
            "align_content": null,
            "align_items": null,
            "align_self": null,
            "border": null,
            "bottom": null,
            "display": null,
            "flex": null,
            "flex_flow": null,
            "grid_area": null,
            "grid_auto_columns": null,
            "grid_auto_flow": null,
            "grid_auto_rows": null,
            "grid_column": null,
            "grid_gap": null,
            "grid_row": null,
            "grid_template_areas": null,
            "grid_template_columns": null,
            "grid_template_rows": null,
            "height": null,
            "justify_content": null,
            "justify_items": null,
            "left": null,
            "margin": null,
            "max_height": null,
            "max_width": null,
            "min_height": null,
            "min_width": null,
            "object_fit": null,
            "object_position": null,
            "order": null,
            "overflow": null,
            "overflow_x": null,
            "overflow_y": null,
            "padding": null,
            "right": null,
            "top": null,
            "visibility": null,
            "width": null
          }
        },
        "33b55b897b4e4fd1b0791e08b1277022": {
          "model_module": "@jupyter-widgets/controls",
          "model_name": "ProgressStyleModel",
          "model_module_version": "1.5.0",
          "state": {
            "_model_module": "@jupyter-widgets/controls",
            "_model_module_version": "1.5.0",
            "_model_name": "ProgressStyleModel",
            "_view_count": null,
            "_view_module": "@jupyter-widgets/base",
            "_view_module_version": "1.2.0",
            "_view_name": "StyleView",
            "bar_color": null,
            "description_width": ""
          }
        },
        "48037384c1da4408861b6e9105caeb69": {
          "model_module": "@jupyter-widgets/base",
          "model_name": "LayoutModel",
          "model_module_version": "1.2.0",
          "state": {
            "_model_module": "@jupyter-widgets/base",
            "_model_module_version": "1.2.0",
            "_model_name": "LayoutModel",
            "_view_count": null,
            "_view_module": "@jupyter-widgets/base",
            "_view_module_version": "1.2.0",
            "_view_name": "LayoutView",
            "align_content": null,
            "align_items": null,
            "align_self": null,
            "border": null,
            "bottom": null,
            "display": null,
            "flex": null,
            "flex_flow": null,
            "grid_area": null,
            "grid_auto_columns": null,
            "grid_auto_flow": null,
            "grid_auto_rows": null,
            "grid_column": null,
            "grid_gap": null,
            "grid_row": null,
            "grid_template_areas": null,
            "grid_template_columns": null,
            "grid_template_rows": null,
            "height": null,
            "justify_content": null,
            "justify_items": null,
            "left": null,
            "margin": null,
            "max_height": null,
            "max_width": null,
            "min_height": null,
            "min_width": null,
            "object_fit": null,
            "object_position": null,
            "order": null,
            "overflow": null,
            "overflow_x": null,
            "overflow_y": null,
            "padding": null,
            "right": null,
            "top": null,
            "visibility": null,
            "width": null
          }
        },
        "82183755d35d47e38b89abac1c8c57c8": {
          "model_module": "@jupyter-widgets/controls",
          "model_name": "DescriptionStyleModel",
          "model_module_version": "1.5.0",
          "state": {
            "_model_module": "@jupyter-widgets/controls",
            "_model_module_version": "1.5.0",
            "_model_name": "DescriptionStyleModel",
            "_view_count": null,
            "_view_module": "@jupyter-widgets/base",
            "_view_module_version": "1.2.0",
            "_view_name": "StyleView",
            "description_width": ""
          }
        },
        "d081ebeb763c4683be8173436e8510c7": {
          "model_module": "@jupyter-widgets/controls",
          "model_name": "HBoxModel",
          "model_module_version": "1.5.0",
          "state": {
            "_dom_classes": [],
            "_model_module": "@jupyter-widgets/controls",
            "_model_module_version": "1.5.0",
            "_model_name": "HBoxModel",
            "_view_count": null,
            "_view_module": "@jupyter-widgets/controls",
            "_view_module_version": "1.5.0",
            "_view_name": "HBoxView",
            "box_style": "",
            "children": [
              "IPY_MODEL_5bd02fcbe2d845d6ba5d7beddfd89a12",
              "IPY_MODEL_ab0113be11614f7c81a5c103dbfa4bf1",
              "IPY_MODEL_35111b5235f643449bc87755f7ca8e3f"
            ],
            "layout": "IPY_MODEL_d5b21d01fcc14143be760f847529be27"
          }
        },
        "5bd02fcbe2d845d6ba5d7beddfd89a12": {
          "model_module": "@jupyter-widgets/controls",
          "model_name": "HTMLModel",
          "model_module_version": "1.5.0",
          "state": {
            "_dom_classes": [],
            "_model_module": "@jupyter-widgets/controls",
            "_model_module_version": "1.5.0",
            "_model_name": "HTMLModel",
            "_view_count": null,
            "_view_module": "@jupyter-widgets/controls",
            "_view_module_version": "1.5.0",
            "_view_name": "HTMLView",
            "description": "",
            "description_tooltip": null,
            "layout": "IPY_MODEL_1d317692ee564534bd6c9cd68013efff",
            "placeholder": "​",
            "style": "IPY_MODEL_0b9c3f8a25864d28ad49b61108cb067e",
            "value": "100%"
          }
        },
        "ab0113be11614f7c81a5c103dbfa4bf1": {
          "model_module": "@jupyter-widgets/controls",
          "model_name": "FloatProgressModel",
          "model_module_version": "1.5.0",
          "state": {
            "_dom_classes": [],
            "_model_module": "@jupyter-widgets/controls",
            "_model_module_version": "1.5.0",
            "_model_name": "FloatProgressModel",
            "_view_count": null,
            "_view_module": "@jupyter-widgets/controls",
            "_view_module_version": "1.5.0",
            "_view_name": "ProgressView",
            "bar_style": "success",
            "description": "",
            "description_tooltip": null,
            "layout": "IPY_MODEL_71be06006bf4495db981d76689fb0c79",
            "max": 28881,
            "min": 0,
            "orientation": "horizontal",
            "style": "IPY_MODEL_31f041d05e4a497b8ec18d4530bf9a97",
            "value": 28881
          }
        },
        "35111b5235f643449bc87755f7ca8e3f": {
          "model_module": "@jupyter-widgets/controls",
          "model_name": "HTMLModel",
          "model_module_version": "1.5.0",
          "state": {
            "_dom_classes": [],
            "_model_module": "@jupyter-widgets/controls",
            "_model_module_version": "1.5.0",
            "_model_name": "HTMLModel",
            "_view_count": null,
            "_view_module": "@jupyter-widgets/controls",
            "_view_module_version": "1.5.0",
            "_view_name": "HTMLView",
            "description": "",
            "description_tooltip": null,
            "layout": "IPY_MODEL_434bf0f8f165412ba3d2f8d6a491871a",
            "placeholder": "​",
            "style": "IPY_MODEL_6a097ba678a3459d987e297391c2c050",
            "value": " 28881/28881 [00:00&lt;00:00, 836462.71it/s]"
          }
        },
        "d5b21d01fcc14143be760f847529be27": {
          "model_module": "@jupyter-widgets/base",
          "model_name": "LayoutModel",
          "model_module_version": "1.2.0",
          "state": {
            "_model_module": "@jupyter-widgets/base",
            "_model_module_version": "1.2.0",
            "_model_name": "LayoutModel",
            "_view_count": null,
            "_view_module": "@jupyter-widgets/base",
            "_view_module_version": "1.2.0",
            "_view_name": "LayoutView",
            "align_content": null,
            "align_items": null,
            "align_self": null,
            "border": null,
            "bottom": null,
            "display": null,
            "flex": null,
            "flex_flow": null,
            "grid_area": null,
            "grid_auto_columns": null,
            "grid_auto_flow": null,
            "grid_auto_rows": null,
            "grid_column": null,
            "grid_gap": null,
            "grid_row": null,
            "grid_template_areas": null,
            "grid_template_columns": null,
            "grid_template_rows": null,
            "height": null,
            "justify_content": null,
            "justify_items": null,
            "left": null,
            "margin": null,
            "max_height": null,
            "max_width": null,
            "min_height": null,
            "min_width": null,
            "object_fit": null,
            "object_position": null,
            "order": null,
            "overflow": null,
            "overflow_x": null,
            "overflow_y": null,
            "padding": null,
            "right": null,
            "top": null,
            "visibility": null,
            "width": null
          }
        },
        "1d317692ee564534bd6c9cd68013efff": {
          "model_module": "@jupyter-widgets/base",
          "model_name": "LayoutModel",
          "model_module_version": "1.2.0",
          "state": {
            "_model_module": "@jupyter-widgets/base",
            "_model_module_version": "1.2.0",
            "_model_name": "LayoutModel",
            "_view_count": null,
            "_view_module": "@jupyter-widgets/base",
            "_view_module_version": "1.2.0",
            "_view_name": "LayoutView",
            "align_content": null,
            "align_items": null,
            "align_self": null,
            "border": null,
            "bottom": null,
            "display": null,
            "flex": null,
            "flex_flow": null,
            "grid_area": null,
            "grid_auto_columns": null,
            "grid_auto_flow": null,
            "grid_auto_rows": null,
            "grid_column": null,
            "grid_gap": null,
            "grid_row": null,
            "grid_template_areas": null,
            "grid_template_columns": null,
            "grid_template_rows": null,
            "height": null,
            "justify_content": null,
            "justify_items": null,
            "left": null,
            "margin": null,
            "max_height": null,
            "max_width": null,
            "min_height": null,
            "min_width": null,
            "object_fit": null,
            "object_position": null,
            "order": null,
            "overflow": null,
            "overflow_x": null,
            "overflow_y": null,
            "padding": null,
            "right": null,
            "top": null,
            "visibility": null,
            "width": null
          }
        },
        "0b9c3f8a25864d28ad49b61108cb067e": {
          "model_module": "@jupyter-widgets/controls",
          "model_name": "DescriptionStyleModel",
          "model_module_version": "1.5.0",
          "state": {
            "_model_module": "@jupyter-widgets/controls",
            "_model_module_version": "1.5.0",
            "_model_name": "DescriptionStyleModel",
            "_view_count": null,
            "_view_module": "@jupyter-widgets/base",
            "_view_module_version": "1.2.0",
            "_view_name": "StyleView",
            "description_width": ""
          }
        },
        "71be06006bf4495db981d76689fb0c79": {
          "model_module": "@jupyter-widgets/base",
          "model_name": "LayoutModel",
          "model_module_version": "1.2.0",
          "state": {
            "_model_module": "@jupyter-widgets/base",
            "_model_module_version": "1.2.0",
            "_model_name": "LayoutModel",
            "_view_count": null,
            "_view_module": "@jupyter-widgets/base",
            "_view_module_version": "1.2.0",
            "_view_name": "LayoutView",
            "align_content": null,
            "align_items": null,
            "align_self": null,
            "border": null,
            "bottom": null,
            "display": null,
            "flex": null,
            "flex_flow": null,
            "grid_area": null,
            "grid_auto_columns": null,
            "grid_auto_flow": null,
            "grid_auto_rows": null,
            "grid_column": null,
            "grid_gap": null,
            "grid_row": null,
            "grid_template_areas": null,
            "grid_template_columns": null,
            "grid_template_rows": null,
            "height": null,
            "justify_content": null,
            "justify_items": null,
            "left": null,
            "margin": null,
            "max_height": null,
            "max_width": null,
            "min_height": null,
            "min_width": null,
            "object_fit": null,
            "object_position": null,
            "order": null,
            "overflow": null,
            "overflow_x": null,
            "overflow_y": null,
            "padding": null,
            "right": null,
            "top": null,
            "visibility": null,
            "width": null
          }
        },
        "31f041d05e4a497b8ec18d4530bf9a97": {
          "model_module": "@jupyter-widgets/controls",
          "model_name": "ProgressStyleModel",
          "model_module_version": "1.5.0",
          "state": {
            "_model_module": "@jupyter-widgets/controls",
            "_model_module_version": "1.5.0",
            "_model_name": "ProgressStyleModel",
            "_view_count": null,
            "_view_module": "@jupyter-widgets/base",
            "_view_module_version": "1.2.0",
            "_view_name": "StyleView",
            "bar_color": null,
            "description_width": ""
          }
        },
        "434bf0f8f165412ba3d2f8d6a491871a": {
          "model_module": "@jupyter-widgets/base",
          "model_name": "LayoutModel",
          "model_module_version": "1.2.0",
          "state": {
            "_model_module": "@jupyter-widgets/base",
            "_model_module_version": "1.2.0",
            "_model_name": "LayoutModel",
            "_view_count": null,
            "_view_module": "@jupyter-widgets/base",
            "_view_module_version": "1.2.0",
            "_view_name": "LayoutView",
            "align_content": null,
            "align_items": null,
            "align_self": null,
            "border": null,
            "bottom": null,
            "display": null,
            "flex": null,
            "flex_flow": null,
            "grid_area": null,
            "grid_auto_columns": null,
            "grid_auto_flow": null,
            "grid_auto_rows": null,
            "grid_column": null,
            "grid_gap": null,
            "grid_row": null,
            "grid_template_areas": null,
            "grid_template_columns": null,
            "grid_template_rows": null,
            "height": null,
            "justify_content": null,
            "justify_items": null,
            "left": null,
            "margin": null,
            "max_height": null,
            "max_width": null,
            "min_height": null,
            "min_width": null,
            "object_fit": null,
            "object_position": null,
            "order": null,
            "overflow": null,
            "overflow_x": null,
            "overflow_y": null,
            "padding": null,
            "right": null,
            "top": null,
            "visibility": null,
            "width": null
          }
        },
        "6a097ba678a3459d987e297391c2c050": {
          "model_module": "@jupyter-widgets/controls",
          "model_name": "DescriptionStyleModel",
          "model_module_version": "1.5.0",
          "state": {
            "_model_module": "@jupyter-widgets/controls",
            "_model_module_version": "1.5.0",
            "_model_name": "DescriptionStyleModel",
            "_view_count": null,
            "_view_module": "@jupyter-widgets/base",
            "_view_module_version": "1.2.0",
            "_view_name": "StyleView",
            "description_width": ""
          }
        },
        "fae67ebdd92748f8b228ff4c8e545389": {
          "model_module": "@jupyter-widgets/controls",
          "model_name": "HBoxModel",
          "model_module_version": "1.5.0",
          "state": {
            "_dom_classes": [],
            "_model_module": "@jupyter-widgets/controls",
            "_model_module_version": "1.5.0",
            "_model_name": "HBoxModel",
            "_view_count": null,
            "_view_module": "@jupyter-widgets/controls",
            "_view_module_version": "1.5.0",
            "_view_name": "HBoxView",
            "box_style": "",
            "children": [
              "IPY_MODEL_b8a10526881e40fb99b876dc99b0e047",
              "IPY_MODEL_e6e6c5f15d614391b731ee75fd08a59e",
              "IPY_MODEL_24a69fef0aae4d8abdd7c0b50f2dd2e8"
            ],
            "layout": "IPY_MODEL_dff9ab74440843d991b8a07bfec64e91"
          }
        },
        "b8a10526881e40fb99b876dc99b0e047": {
          "model_module": "@jupyter-widgets/controls",
          "model_name": "HTMLModel",
          "model_module_version": "1.5.0",
          "state": {
            "_dom_classes": [],
            "_model_module": "@jupyter-widgets/controls",
            "_model_module_version": "1.5.0",
            "_model_name": "HTMLModel",
            "_view_count": null,
            "_view_module": "@jupyter-widgets/controls",
            "_view_module_version": "1.5.0",
            "_view_name": "HTMLView",
            "description": "",
            "description_tooltip": null,
            "layout": "IPY_MODEL_3df8c236610c411aab7a36f7128a5a33",
            "placeholder": "​",
            "style": "IPY_MODEL_67ec914d106847598e23b04c75bf44ac",
            "value": "100%"
          }
        },
        "e6e6c5f15d614391b731ee75fd08a59e": {
          "model_module": "@jupyter-widgets/controls",
          "model_name": "FloatProgressModel",
          "model_module_version": "1.5.0",
          "state": {
            "_dom_classes": [],
            "_model_module": "@jupyter-widgets/controls",
            "_model_module_version": "1.5.0",
            "_model_name": "FloatProgressModel",
            "_view_count": null,
            "_view_module": "@jupyter-widgets/controls",
            "_view_module_version": "1.5.0",
            "_view_name": "ProgressView",
            "bar_style": "success",
            "description": "",
            "description_tooltip": null,
            "layout": "IPY_MODEL_eb502daccda44bebb81056d3092212eb",
            "max": 1648877,
            "min": 0,
            "orientation": "horizontal",
            "style": "IPY_MODEL_3fef200dfada4e1ab9fb5c522d8808f9",
            "value": 1648877
          }
        },
        "24a69fef0aae4d8abdd7c0b50f2dd2e8": {
          "model_module": "@jupyter-widgets/controls",
          "model_name": "HTMLModel",
          "model_module_version": "1.5.0",
          "state": {
            "_dom_classes": [],
            "_model_module": "@jupyter-widgets/controls",
            "_model_module_version": "1.5.0",
            "_model_name": "HTMLModel",
            "_view_count": null,
            "_view_module": "@jupyter-widgets/controls",
            "_view_module_version": "1.5.0",
            "_view_name": "HTMLView",
            "description": "",
            "description_tooltip": null,
            "layout": "IPY_MODEL_ecd0689f7d2148b9acb437582fa94869",
            "placeholder": "​",
            "style": "IPY_MODEL_8850faf6e18a41e68339333ce7a14421",
            "value": " 1648877/1648877 [00:00&lt;00:00, 16838334.83it/s]"
          }
        },
        "dff9ab74440843d991b8a07bfec64e91": {
          "model_module": "@jupyter-widgets/base",
          "model_name": "LayoutModel",
          "model_module_version": "1.2.0",
          "state": {
            "_model_module": "@jupyter-widgets/base",
            "_model_module_version": "1.2.0",
            "_model_name": "LayoutModel",
            "_view_count": null,
            "_view_module": "@jupyter-widgets/base",
            "_view_module_version": "1.2.0",
            "_view_name": "LayoutView",
            "align_content": null,
            "align_items": null,
            "align_self": null,
            "border": null,
            "bottom": null,
            "display": null,
            "flex": null,
            "flex_flow": null,
            "grid_area": null,
            "grid_auto_columns": null,
            "grid_auto_flow": null,
            "grid_auto_rows": null,
            "grid_column": null,
            "grid_gap": null,
            "grid_row": null,
            "grid_template_areas": null,
            "grid_template_columns": null,
            "grid_template_rows": null,
            "height": null,
            "justify_content": null,
            "justify_items": null,
            "left": null,
            "margin": null,
            "max_height": null,
            "max_width": null,
            "min_height": null,
            "min_width": null,
            "object_fit": null,
            "object_position": null,
            "order": null,
            "overflow": null,
            "overflow_x": null,
            "overflow_y": null,
            "padding": null,
            "right": null,
            "top": null,
            "visibility": null,
            "width": null
          }
        },
        "3df8c236610c411aab7a36f7128a5a33": {
          "model_module": "@jupyter-widgets/base",
          "model_name": "LayoutModel",
          "model_module_version": "1.2.0",
          "state": {
            "_model_module": "@jupyter-widgets/base",
            "_model_module_version": "1.2.0",
            "_model_name": "LayoutModel",
            "_view_count": null,
            "_view_module": "@jupyter-widgets/base",
            "_view_module_version": "1.2.0",
            "_view_name": "LayoutView",
            "align_content": null,
            "align_items": null,
            "align_self": null,
            "border": null,
            "bottom": null,
            "display": null,
            "flex": null,
            "flex_flow": null,
            "grid_area": null,
            "grid_auto_columns": null,
            "grid_auto_flow": null,
            "grid_auto_rows": null,
            "grid_column": null,
            "grid_gap": null,
            "grid_row": null,
            "grid_template_areas": null,
            "grid_template_columns": null,
            "grid_template_rows": null,
            "height": null,
            "justify_content": null,
            "justify_items": null,
            "left": null,
            "margin": null,
            "max_height": null,
            "max_width": null,
            "min_height": null,
            "min_width": null,
            "object_fit": null,
            "object_position": null,
            "order": null,
            "overflow": null,
            "overflow_x": null,
            "overflow_y": null,
            "padding": null,
            "right": null,
            "top": null,
            "visibility": null,
            "width": null
          }
        },
        "67ec914d106847598e23b04c75bf44ac": {
          "model_module": "@jupyter-widgets/controls",
          "model_name": "DescriptionStyleModel",
          "model_module_version": "1.5.0",
          "state": {
            "_model_module": "@jupyter-widgets/controls",
            "_model_module_version": "1.5.0",
            "_model_name": "DescriptionStyleModel",
            "_view_count": null,
            "_view_module": "@jupyter-widgets/base",
            "_view_module_version": "1.2.0",
            "_view_name": "StyleView",
            "description_width": ""
          }
        },
        "eb502daccda44bebb81056d3092212eb": {
          "model_module": "@jupyter-widgets/base",
          "model_name": "LayoutModel",
          "model_module_version": "1.2.0",
          "state": {
            "_model_module": "@jupyter-widgets/base",
            "_model_module_version": "1.2.0",
            "_model_name": "LayoutModel",
            "_view_count": null,
            "_view_module": "@jupyter-widgets/base",
            "_view_module_version": "1.2.0",
            "_view_name": "LayoutView",
            "align_content": null,
            "align_items": null,
            "align_self": null,
            "border": null,
            "bottom": null,
            "display": null,
            "flex": null,
            "flex_flow": null,
            "grid_area": null,
            "grid_auto_columns": null,
            "grid_auto_flow": null,
            "grid_auto_rows": null,
            "grid_column": null,
            "grid_gap": null,
            "grid_row": null,
            "grid_template_areas": null,
            "grid_template_columns": null,
            "grid_template_rows": null,
            "height": null,
            "justify_content": null,
            "justify_items": null,
            "left": null,
            "margin": null,
            "max_height": null,
            "max_width": null,
            "min_height": null,
            "min_width": null,
            "object_fit": null,
            "object_position": null,
            "order": null,
            "overflow": null,
            "overflow_x": null,
            "overflow_y": null,
            "padding": null,
            "right": null,
            "top": null,
            "visibility": null,
            "width": null
          }
        },
        "3fef200dfada4e1ab9fb5c522d8808f9": {
          "model_module": "@jupyter-widgets/controls",
          "model_name": "ProgressStyleModel",
          "model_module_version": "1.5.0",
          "state": {
            "_model_module": "@jupyter-widgets/controls",
            "_model_module_version": "1.5.0",
            "_model_name": "ProgressStyleModel",
            "_view_count": null,
            "_view_module": "@jupyter-widgets/base",
            "_view_module_version": "1.2.0",
            "_view_name": "StyleView",
            "bar_color": null,
            "description_width": ""
          }
        },
        "ecd0689f7d2148b9acb437582fa94869": {
          "model_module": "@jupyter-widgets/base",
          "model_name": "LayoutModel",
          "model_module_version": "1.2.0",
          "state": {
            "_model_module": "@jupyter-widgets/base",
            "_model_module_version": "1.2.0",
            "_model_name": "LayoutModel",
            "_view_count": null,
            "_view_module": "@jupyter-widgets/base",
            "_view_module_version": "1.2.0",
            "_view_name": "LayoutView",
            "align_content": null,
            "align_items": null,
            "align_self": null,
            "border": null,
            "bottom": null,
            "display": null,
            "flex": null,
            "flex_flow": null,
            "grid_area": null,
            "grid_auto_columns": null,
            "grid_auto_flow": null,
            "grid_auto_rows": null,
            "grid_column": null,
            "grid_gap": null,
            "grid_row": null,
            "grid_template_areas": null,
            "grid_template_columns": null,
            "grid_template_rows": null,
            "height": null,
            "justify_content": null,
            "justify_items": null,
            "left": null,
            "margin": null,
            "max_height": null,
            "max_width": null,
            "min_height": null,
            "min_width": null,
            "object_fit": null,
            "object_position": null,
            "order": null,
            "overflow": null,
            "overflow_x": null,
            "overflow_y": null,
            "padding": null,
            "right": null,
            "top": null,
            "visibility": null,
            "width": null
          }
        },
        "8850faf6e18a41e68339333ce7a14421": {
          "model_module": "@jupyter-widgets/controls",
          "model_name": "DescriptionStyleModel",
          "model_module_version": "1.5.0",
          "state": {
            "_model_module": "@jupyter-widgets/controls",
            "_model_module_version": "1.5.0",
            "_model_name": "DescriptionStyleModel",
            "_view_count": null,
            "_view_module": "@jupyter-widgets/base",
            "_view_module_version": "1.2.0",
            "_view_name": "StyleView",
            "description_width": ""
          }
        },
        "51289fe136df495f887b7b8f4e847312": {
          "model_module": "@jupyter-widgets/controls",
          "model_name": "HBoxModel",
          "model_module_version": "1.5.0",
          "state": {
            "_dom_classes": [],
            "_model_module": "@jupyter-widgets/controls",
            "_model_module_version": "1.5.0",
            "_model_name": "HBoxModel",
            "_view_count": null,
            "_view_module": "@jupyter-widgets/controls",
            "_view_module_version": "1.5.0",
            "_view_name": "HBoxView",
            "box_style": "",
            "children": [
              "IPY_MODEL_60cd0f798fa24963be7cd872b21bd4d7",
              "IPY_MODEL_a195ba9f68c145f89205054e50fdf5fe",
              "IPY_MODEL_03c111532f4f4321ae8547dabb8cd850"
            ],
            "layout": "IPY_MODEL_b41789019cbd411189c89a7f7dffa0e9"
          }
        },
        "60cd0f798fa24963be7cd872b21bd4d7": {
          "model_module": "@jupyter-widgets/controls",
          "model_name": "HTMLModel",
          "model_module_version": "1.5.0",
          "state": {
            "_dom_classes": [],
            "_model_module": "@jupyter-widgets/controls",
            "_model_module_version": "1.5.0",
            "_model_name": "HTMLModel",
            "_view_count": null,
            "_view_module": "@jupyter-widgets/controls",
            "_view_module_version": "1.5.0",
            "_view_name": "HTMLView",
            "description": "",
            "description_tooltip": null,
            "layout": "IPY_MODEL_ef6e6d09e2f3416db3863cbbe48f243f",
            "placeholder": "​",
            "style": "IPY_MODEL_fe8f13c15de149e9a738986d8dc8e7c4",
            "value": "100%"
          }
        },
        "a195ba9f68c145f89205054e50fdf5fe": {
          "model_module": "@jupyter-widgets/controls",
          "model_name": "FloatProgressModel",
          "model_module_version": "1.5.0",
          "state": {
            "_dom_classes": [],
            "_model_module": "@jupyter-widgets/controls",
            "_model_module_version": "1.5.0",
            "_model_name": "FloatProgressModel",
            "_view_count": null,
            "_view_module": "@jupyter-widgets/controls",
            "_view_module_version": "1.5.0",
            "_view_name": "ProgressView",
            "bar_style": "success",
            "description": "",
            "description_tooltip": null,
            "layout": "IPY_MODEL_45e5e790c64a4e8abd65e9538d129963",
            "max": 4542,
            "min": 0,
            "orientation": "horizontal",
            "style": "IPY_MODEL_555d2139b7f54e4294af4939898e3025",
            "value": 4542
          }
        },
        "03c111532f4f4321ae8547dabb8cd850": {
          "model_module": "@jupyter-widgets/controls",
          "model_name": "HTMLModel",
          "model_module_version": "1.5.0",
          "state": {
            "_dom_classes": [],
            "_model_module": "@jupyter-widgets/controls",
            "_model_module_version": "1.5.0",
            "_model_name": "HTMLModel",
            "_view_count": null,
            "_view_module": "@jupyter-widgets/controls",
            "_view_module_version": "1.5.0",
            "_view_name": "HTMLView",
            "description": "",
            "description_tooltip": null,
            "layout": "IPY_MODEL_5fb345f6ff1d464fb274c1e0414c1624",
            "placeholder": "​",
            "style": "IPY_MODEL_3fe0b20da9754693b98afc51067a7f56",
            "value": " 4542/4542 [00:00&lt;00:00, 123389.85it/s]"
          }
        },
        "b41789019cbd411189c89a7f7dffa0e9": {
          "model_module": "@jupyter-widgets/base",
          "model_name": "LayoutModel",
          "model_module_version": "1.2.0",
          "state": {
            "_model_module": "@jupyter-widgets/base",
            "_model_module_version": "1.2.0",
            "_model_name": "LayoutModel",
            "_view_count": null,
            "_view_module": "@jupyter-widgets/base",
            "_view_module_version": "1.2.0",
            "_view_name": "LayoutView",
            "align_content": null,
            "align_items": null,
            "align_self": null,
            "border": null,
            "bottom": null,
            "display": null,
            "flex": null,
            "flex_flow": null,
            "grid_area": null,
            "grid_auto_columns": null,
            "grid_auto_flow": null,
            "grid_auto_rows": null,
            "grid_column": null,
            "grid_gap": null,
            "grid_row": null,
            "grid_template_areas": null,
            "grid_template_columns": null,
            "grid_template_rows": null,
            "height": null,
            "justify_content": null,
            "justify_items": null,
            "left": null,
            "margin": null,
            "max_height": null,
            "max_width": null,
            "min_height": null,
            "min_width": null,
            "object_fit": null,
            "object_position": null,
            "order": null,
            "overflow": null,
            "overflow_x": null,
            "overflow_y": null,
            "padding": null,
            "right": null,
            "top": null,
            "visibility": null,
            "width": null
          }
        },
        "ef6e6d09e2f3416db3863cbbe48f243f": {
          "model_module": "@jupyter-widgets/base",
          "model_name": "LayoutModel",
          "model_module_version": "1.2.0",
          "state": {
            "_model_module": "@jupyter-widgets/base",
            "_model_module_version": "1.2.0",
            "_model_name": "LayoutModel",
            "_view_count": null,
            "_view_module": "@jupyter-widgets/base",
            "_view_module_version": "1.2.0",
            "_view_name": "LayoutView",
            "align_content": null,
            "align_items": null,
            "align_self": null,
            "border": null,
            "bottom": null,
            "display": null,
            "flex": null,
            "flex_flow": null,
            "grid_area": null,
            "grid_auto_columns": null,
            "grid_auto_flow": null,
            "grid_auto_rows": null,
            "grid_column": null,
            "grid_gap": null,
            "grid_row": null,
            "grid_template_areas": null,
            "grid_template_columns": null,
            "grid_template_rows": null,
            "height": null,
            "justify_content": null,
            "justify_items": null,
            "left": null,
            "margin": null,
            "max_height": null,
            "max_width": null,
            "min_height": null,
            "min_width": null,
            "object_fit": null,
            "object_position": null,
            "order": null,
            "overflow": null,
            "overflow_x": null,
            "overflow_y": null,
            "padding": null,
            "right": null,
            "top": null,
            "visibility": null,
            "width": null
          }
        },
        "fe8f13c15de149e9a738986d8dc8e7c4": {
          "model_module": "@jupyter-widgets/controls",
          "model_name": "DescriptionStyleModel",
          "model_module_version": "1.5.0",
          "state": {
            "_model_module": "@jupyter-widgets/controls",
            "_model_module_version": "1.5.0",
            "_model_name": "DescriptionStyleModel",
            "_view_count": null,
            "_view_module": "@jupyter-widgets/base",
            "_view_module_version": "1.2.0",
            "_view_name": "StyleView",
            "description_width": ""
          }
        },
        "45e5e790c64a4e8abd65e9538d129963": {
          "model_module": "@jupyter-widgets/base",
          "model_name": "LayoutModel",
          "model_module_version": "1.2.0",
          "state": {
            "_model_module": "@jupyter-widgets/base",
            "_model_module_version": "1.2.0",
            "_model_name": "LayoutModel",
            "_view_count": null,
            "_view_module": "@jupyter-widgets/base",
            "_view_module_version": "1.2.0",
            "_view_name": "LayoutView",
            "align_content": null,
            "align_items": null,
            "align_self": null,
            "border": null,
            "bottom": null,
            "display": null,
            "flex": null,
            "flex_flow": null,
            "grid_area": null,
            "grid_auto_columns": null,
            "grid_auto_flow": null,
            "grid_auto_rows": null,
            "grid_column": null,
            "grid_gap": null,
            "grid_row": null,
            "grid_template_areas": null,
            "grid_template_columns": null,
            "grid_template_rows": null,
            "height": null,
            "justify_content": null,
            "justify_items": null,
            "left": null,
            "margin": null,
            "max_height": null,
            "max_width": null,
            "min_height": null,
            "min_width": null,
            "object_fit": null,
            "object_position": null,
            "order": null,
            "overflow": null,
            "overflow_x": null,
            "overflow_y": null,
            "padding": null,
            "right": null,
            "top": null,
            "visibility": null,
            "width": null
          }
        },
        "555d2139b7f54e4294af4939898e3025": {
          "model_module": "@jupyter-widgets/controls",
          "model_name": "ProgressStyleModel",
          "model_module_version": "1.5.0",
          "state": {
            "_model_module": "@jupyter-widgets/controls",
            "_model_module_version": "1.5.0",
            "_model_name": "ProgressStyleModel",
            "_view_count": null,
            "_view_module": "@jupyter-widgets/base",
            "_view_module_version": "1.2.0",
            "_view_name": "StyleView",
            "bar_color": null,
            "description_width": ""
          }
        },
        "5fb345f6ff1d464fb274c1e0414c1624": {
          "model_module": "@jupyter-widgets/base",
          "model_name": "LayoutModel",
          "model_module_version": "1.2.0",
          "state": {
            "_model_module": "@jupyter-widgets/base",
            "_model_module_version": "1.2.0",
            "_model_name": "LayoutModel",
            "_view_count": null,
            "_view_module": "@jupyter-widgets/base",
            "_view_module_version": "1.2.0",
            "_view_name": "LayoutView",
            "align_content": null,
            "align_items": null,
            "align_self": null,
            "border": null,
            "bottom": null,
            "display": null,
            "flex": null,
            "flex_flow": null,
            "grid_area": null,
            "grid_auto_columns": null,
            "grid_auto_flow": null,
            "grid_auto_rows": null,
            "grid_column": null,
            "grid_gap": null,
            "grid_row": null,
            "grid_template_areas": null,
            "grid_template_columns": null,
            "grid_template_rows": null,
            "height": null,
            "justify_content": null,
            "justify_items": null,
            "left": null,
            "margin": null,
            "max_height": null,
            "max_width": null,
            "min_height": null,
            "min_width": null,
            "object_fit": null,
            "object_position": null,
            "order": null,
            "overflow": null,
            "overflow_x": null,
            "overflow_y": null,
            "padding": null,
            "right": null,
            "top": null,
            "visibility": null,
            "width": null
          }
        },
        "3fe0b20da9754693b98afc51067a7f56": {
          "model_module": "@jupyter-widgets/controls",
          "model_name": "DescriptionStyleModel",
          "model_module_version": "1.5.0",
          "state": {
            "_model_module": "@jupyter-widgets/controls",
            "_model_module_version": "1.5.0",
            "_model_name": "DescriptionStyleModel",
            "_view_count": null,
            "_view_module": "@jupyter-widgets/base",
            "_view_module_version": "1.2.0",
            "_view_name": "StyleView",
            "description_width": ""
          }
        }
      }
    }
  },
  "cells": [
    {
      "cell_type": "markdown",
      "metadata": {
        "id": "view-in-github",
        "colab_type": "text"
      },
      "source": [
        "<a href=\"https://colab.research.google.com/github/lucius-yu/simple-learning/blob/main/build_a_generative_adversarial_network_with_pytorch.ipynb\" target=\"_parent\"><img src=\"https://colab.research.google.com/assets/colab-badge.svg\" alt=\"Open In Colab\"/></a>"
      ]
    },
    {
      "cell_type": "markdown",
      "source": [
        "# Deep Learning with pytorch: Build a Generative Adversarial Network\n",
        "\n",
        "![GANs.png](data:image/png;base64,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)"
      ],
      "metadata": {
        "id": "9JX9HpRgwS42"
      }
    },
    {
      "cell_type": "code",
      "source": [
        "import torch\n",
        "import numpy as np\n",
        "import matplotlib.pyplot as plt"
      ],
      "metadata": {
        "id": "24otuk41xnuf"
      },
      "execution_count": 1,
      "outputs": []
    },
    {
      "cell_type": "markdown",
      "source": [
        "## Configurations"
      ],
      "metadata": {
        "id": "CDafOG59yBMo"
      }
    },
    {
      "cell_type": "code",
      "source": [
        "device = 'cuda'   # image = image.to(device)\n",
        "batch_size = 128  # train loader, training loop\n",
        "noise_dim = 64    # generator model\n",
        "\n",
        "# optimizers parameters\n",
        "lr = 0.0002\n",
        "beta_1 = 0.5\n",
        "beta_2 = 0.99\n",
        "\n",
        "# Training variables\n",
        "epochs = 20"
      ],
      "metadata": {
        "id": "7NN7EWBUyF75"
      },
      "execution_count": 2,
      "outputs": []
    },
    {
      "cell_type": "markdown",
      "source": [
        "## Load MNIST Dataset"
      ],
      "metadata": {
        "id": "omG4Krge057r"
      }
    },
    {
      "cell_type": "code",
      "source": [
        "from torchvision import datasets, transforms as T"
      ],
      "metadata": {
        "id": "Q_RnNMbt0-RH"
      },
      "execution_count": 3,
      "outputs": []
    },
    {
      "cell_type": "code",
      "source": [
        "train_augs = T.Compose([\n",
        "    T.RandomRotation((-20, +20)),\n",
        "    T.ToTensor(), # Image is in numpy or PIL, transform to torch tensor (h, w, c) -> (c, h, w)\n",
        "                  # Make sure the dimension of your images are (channel, height, width)\n",
        "])"
      ],
      "metadata": {
        "id": "0lTA_1_P1eGJ"
      },
      "execution_count": 4,
      "outputs": []
    },
    {
      "cell_type": "code",
      "source": [
        "trainset = datasets.MNIST('MNIST/', download = True, train = True, transform = train_augs)"
      ],
      "metadata": {
        "colab": {
          "base_uri": "https://localhost:8080/",
          "height": 423,
          "referenced_widgets": [
            "1799684c5cfe40d49914bc0e342dc33f",
            "9a2529f630ef4774a0d71ecc37cc9359",
            "cef908a7173746429fa43e131a37f902",
            "bd00e7ac209b4626b121943ea104351b",
            "088c06b8690b487b963a226177917327",
            "166360a67bb14f2eb059a1dbd06f5a30",
            "41d2bc38fb3444ba875795438c0c302c",
            "8abf8d2d6ed849ec89bb03d0b055b03b",
            "33b55b897b4e4fd1b0791e08b1277022",
            "48037384c1da4408861b6e9105caeb69",
            "82183755d35d47e38b89abac1c8c57c8",
            "d081ebeb763c4683be8173436e8510c7",
            "5bd02fcbe2d845d6ba5d7beddfd89a12",
            "ab0113be11614f7c81a5c103dbfa4bf1",
            "35111b5235f643449bc87755f7ca8e3f",
            "d5b21d01fcc14143be760f847529be27",
            "1d317692ee564534bd6c9cd68013efff",
            "0b9c3f8a25864d28ad49b61108cb067e",
            "71be06006bf4495db981d76689fb0c79",
            "31f041d05e4a497b8ec18d4530bf9a97",
            "434bf0f8f165412ba3d2f8d6a491871a",
            "6a097ba678a3459d987e297391c2c050",
            "fae67ebdd92748f8b228ff4c8e545389",
            "b8a10526881e40fb99b876dc99b0e047",
            "e6e6c5f15d614391b731ee75fd08a59e",
            "24a69fef0aae4d8abdd7c0b50f2dd2e8",
            "dff9ab74440843d991b8a07bfec64e91",
            "3df8c236610c411aab7a36f7128a5a33",
            "67ec914d106847598e23b04c75bf44ac",
            "eb502daccda44bebb81056d3092212eb",
            "3fef200dfada4e1ab9fb5c522d8808f9",
            "ecd0689f7d2148b9acb437582fa94869",
            "8850faf6e18a41e68339333ce7a14421",
            "51289fe136df495f887b7b8f4e847312",
            "60cd0f798fa24963be7cd872b21bd4d7",
            "a195ba9f68c145f89205054e50fdf5fe",
            "03c111532f4f4321ae8547dabb8cd850",
            "b41789019cbd411189c89a7f7dffa0e9",
            "ef6e6d09e2f3416db3863cbbe48f243f",
            "fe8f13c15de149e9a738986d8dc8e7c4",
            "45e5e790c64a4e8abd65e9538d129963",
            "555d2139b7f54e4294af4939898e3025",
            "5fb345f6ff1d464fb274c1e0414c1624",
            "3fe0b20da9754693b98afc51067a7f56"
          ]
        },
        "id": "FqGrnLO-2qe3",
        "outputId": "03768218-79c1-4561-8587-1f9357033f1a"
      },
      "execution_count": 5,
      "outputs": [
        {
          "output_type": "stream",
          "name": "stdout",
          "text": [
            "Downloading http://yann.lecun.com/exdb/mnist/train-images-idx3-ubyte.gz\n",
            "Downloading http://yann.lecun.com/exdb/mnist/train-images-idx3-ubyte.gz to MNIST/MNIST/raw/train-images-idx3-ubyte.gz\n"
          ]
        },
        {
          "output_type": "display_data",
          "data": {
            "text/plain": [
              "  0%|          | 0/9912422 [00:00<?, ?it/s]"
            ],
            "application/vnd.jupyter.widget-view+json": {
              "version_major": 2,
              "version_minor": 0,
              "model_id": "1799684c5cfe40d49914bc0e342dc33f"
            }
          },
          "metadata": {}
        },
        {
          "output_type": "stream",
          "name": "stdout",
          "text": [
            "Extracting MNIST/MNIST/raw/train-images-idx3-ubyte.gz to MNIST/MNIST/raw\n",
            "\n",
            "Downloading http://yann.lecun.com/exdb/mnist/train-labels-idx1-ubyte.gz\n",
            "Downloading http://yann.lecun.com/exdb/mnist/train-labels-idx1-ubyte.gz to MNIST/MNIST/raw/train-labels-idx1-ubyte.gz\n"
          ]
        },
        {
          "output_type": "display_data",
          "data": {
            "text/plain": [
              "  0%|          | 0/28881 [00:00<?, ?it/s]"
            ],
            "application/vnd.jupyter.widget-view+json": {
              "version_major": 2,
              "version_minor": 0,
              "model_id": "d081ebeb763c4683be8173436e8510c7"
            }
          },
          "metadata": {}
        },
        {
          "output_type": "stream",
          "name": "stdout",
          "text": [
            "Extracting MNIST/MNIST/raw/train-labels-idx1-ubyte.gz to MNIST/MNIST/raw\n",
            "\n",
            "Downloading http://yann.lecun.com/exdb/mnist/t10k-images-idx3-ubyte.gz\n",
            "Downloading http://yann.lecun.com/exdb/mnist/t10k-images-idx3-ubyte.gz to MNIST/MNIST/raw/t10k-images-idx3-ubyte.gz\n"
          ]
        },
        {
          "output_type": "display_data",
          "data": {
            "text/plain": [
              "  0%|          | 0/1648877 [00:00<?, ?it/s]"
            ],
            "application/vnd.jupyter.widget-view+json": {
              "version_major": 2,
              "version_minor": 0,
              "model_id": "fae67ebdd92748f8b228ff4c8e545389"
            }
          },
          "metadata": {}
        },
        {
          "output_type": "stream",
          "name": "stdout",
          "text": [
            "Extracting MNIST/MNIST/raw/t10k-images-idx3-ubyte.gz to MNIST/MNIST/raw\n",
            "\n",
            "Downloading http://yann.lecun.com/exdb/mnist/t10k-labels-idx1-ubyte.gz\n",
            "Downloading http://yann.lecun.com/exdb/mnist/t10k-labels-idx1-ubyte.gz to MNIST/MNIST/raw/t10k-labels-idx1-ubyte.gz\n"
          ]
        },
        {
          "output_type": "display_data",
          "data": {
            "text/plain": [
              "  0%|          | 0/4542 [00:00<?, ?it/s]"
            ],
            "application/vnd.jupyter.widget-view+json": {
              "version_major": 2,
              "version_minor": 0,
              "model_id": "51289fe136df495f887b7b8f4e847312"
            }
          },
          "metadata": {}
        },
        {
          "output_type": "stream",
          "name": "stdout",
          "text": [
            "Extracting MNIST/MNIST/raw/t10k-labels-idx1-ubyte.gz to MNIST/MNIST/raw\n",
            "\n"
          ]
        }
      ]
    },
    {
      "cell_type": "code",
      "source": [
        "image, label = trainset[9000]\n",
        "\n",
        "plt.imshow(image.squeeze(), cmap = 'gray')"
      ],
      "metadata": {
        "colab": {
          "base_uri": "https://localhost:8080/",
          "height": 282
        },
        "id": "vVprvNht2-Qt",
        "outputId": "5baff1c3-c853-4c3a-b073-a8382e59240b"
      },
      "execution_count": 6,
      "outputs": [
        {
          "output_type": "execute_result",
          "data": {
            "text/plain": [
              "<matplotlib.image.AxesImage at 0x7f8be1be1b10>"
            ]
          },
          "metadata": {},
          "execution_count": 6
        },
        {
          "output_type": "display_data",
          "data": {
            "text/plain": [
              "<Figure size 432x288 with 1 Axes>"
            ],
            "image/png": "[encoded data removed]"
          },
          "metadata": {
            "needs_background": "light"
          }
        }
      ]
    },
    {
      "cell_type": "code",
      "source": [
        "print(\"total images present in trainset are : \", len(trainset))"
      ],
      "metadata": {
        "colab": {
          "base_uri": "https://localhost:8080/"
        },
        "id": "V-Kb83xp3MHG",
        "outputId": "b20cdd36-8b42-49a9-9340-4ff4b2a216e5"
      },
      "execution_count": 7,
      "outputs": [
        {
          "output_type": "stream",
          "name": "stdout",
          "text": [
            "total images present in trainset are :  60000\n"
          ]
        }
      ]
    },
    {
      "cell_type": "markdown",
      "source": [
        "## Load Dataset into Batches"
      ],
      "metadata": {
        "id": "dOV7PPZb3ag-"
      }
    },
    {
      "cell_type": "code",
      "source": [
        "from torch.utils.data import DataLoader\n",
        "from torchvision.utils import make_grid"
      ],
      "metadata": {
        "id": "IMqadF_e3l0u"
      },
      "execution_count": 8,
      "outputs": []
    },
    {
      "cell_type": "code",
      "source": [
        "trainloader = DataLoader(trainset, batch_size = batch_size, shuffle = True)"
      ],
      "metadata": {
        "id": "awqloS4J3ubV"
      },
      "execution_count": 9,
      "outputs": []
    },
    {
      "cell_type": "code",
      "source": [
        "print(\"Total number of batches in trainloader : \", len(trainloader))"
      ],
      "metadata": {
        "colab": {
          "base_uri": "https://localhost:8080/"
        },
        "id": "aCWLAOYF4COW",
        "outputId": "4074b54a-677f-4094-b64f-a755c953590f"
      },
      "execution_count": 10,
      "outputs": [
        {
          "output_type": "stream",
          "name": "stdout",
          "text": [
            "Total number of batches in trainloader :  469\n"
          ]
        }
      ]
    },
    {
      "cell_type": "code",
      "source": [
        "dataiter = iter(trainloader)\n",
        "\n",
        "images, _ = dataiter.next()\n",
        "\n",
        "print(images.shape) # batch_size, channel, height, width"
      ],
      "metadata": {
        "colab": {
          "base_uri": "https://localhost:8080/"
        },
        "id": "WBC3v_BZ4LZt",
        "outputId": "3980d8be-5e4a-46c8-870e-4d3ddc2a55a3"
      },
      "execution_count": 11,
      "outputs": [
        {
          "output_type": "stream",
          "name": "stdout",
          "text": [
            "torch.Size([128, 1, 28, 28])\n"
          ]
        }
      ]
    },
    {
      "cell_type": "code",
      "source": [
        "# 'show_tensor_images' : function is used to plot some of images from the batch\n",
        "\n",
        "def show_tensor_images(tensor_img, num_images = 16, size=(1,28,28)):\n",
        "    unflat_img = tensor_img.detach().cpu()\n",
        "    img_grid = make_grid(unflat_img[:num_images], nrow=4)\n",
        "    plt.imshow(img_grid.permute(1,2,0).squeeze())\n",
        "    plt.show()"
      ],
      "metadata": {
        "id": "s5YG7DXV4Y53"
      },
      "execution_count": 12,
      "outputs": []
    },
    {
      "cell_type": "code",
      "source": [
        "show_tensor_images(images, num_images = 16)"
      ],
      "metadata": {
        "colab": {
          "base_uri": "https://localhost:8080/",
          "height": 268
        },
        "id": "MO07CCl45KON",
        "outputId": "05cc3497-9920-4614-e50b-f958cd00496a"
      },
      "execution_count": 13,
      "outputs": [
        {
          "output_type": "display_data",
          "data": {
            "text/plain": [
              "<Figure size 432x288 with 1 Axes>"
            ],
            "image/png": "[encoded data removed]"
          },
          "metadata": {
            "needs_background": "light"
          }
        }
      ]
    },
    {
      "cell_type": "markdown",
      "source": [
        "## Create Discriminator Network\n",
        "\n",
        "It is a simple binary classifier, which classifies whether given image is a real image or a fake image"
      ],
      "metadata": {
        "id": "irFSL9RS5ThP"
      }
    },
    {
      "cell_type": "code",
      "source": [
        "from torch import nn\n",
        "from torchsummary import summary"
      ],
      "metadata": {
        "id": "SLgppTfv_e1V"
      },
      "execution_count": 14,
      "outputs": []
    },
    {
      "cell_type": "code",
      "source": [
        "'''\n",
        "\n",
        "Network : Discriminator\n",
        "bs is batch size\n",
        "no max pooling\n",
        "no sigmoid as final output, because we will use binary cross-entropy logit loss which take raw outputs as input. i.e. sigmoid is in logit-loss\n",
        "\n",
        "\n",
        "input : (bs, 1, 28, 28)\n",
        "      |                                                                                               ---- SUMMARY ----\n",
        "      V\n",
        "Conv2d( in_channels = 1, out_channels = 16, kernel_size = (3,3), stride = 2)                           #(bs, 16, 13, 13)\n",
        "BatchNorm2d()                                                                                          #(bs, 16, 13, 13)\n",
        "LeakyReLU()                                                                                            #(bs, 16, 13, 13)\n",
        "      |\n",
        "      V\n",
        "Conv2d( in_channels = 16, out_channels = 32, kernel_size = (5,5), stride = 2)                          #(bs, 32, 5, 5)\n",
        "BatchNorm2d()                                                                                          #(bs, 32, 5, 5)\n",
        "LeakyReLU()                                                                                            #(bs, 32, 5, 5)\n",
        "      |\n",
        "      V\n",
        "Conv2d( in_channels = 32, out_channels = 64, kernel_size = (5,5), stride = 2)                          #(bs, 64, 1, 1)\n",
        "BatchNorm2d()                                                                                          #(bs, 64, 1, 1)\n",
        "LeakyReLU()                                                                                            #(bs, 64, 1, 1)\n",
        "      |\n",
        "      V\n",
        "Flatten()                                                                                              #(bs, 64)\n",
        "Linear(in_features = 64, out_features = 1)                                                             #(bs, 1)\n",
        "\n",
        "'''\n"
      ],
      "metadata": {
        "colab": {
          "base_uri": "https://localhost:8080/",
          "height": 70
        },
        "id": "3dZXmG0uDNq-",
        "outputId": "bc08f4df-c5c2-4829-f304-3dd7ae69fd02"
      },
      "execution_count": 15,
      "outputs": [
        {
          "output_type": "execute_result",
          "data": {
            "text/plain": [
              "'\\n\\nNetwork : Discriminator\\nbs is batch size\\nno max pooling\\nno sigmoid as final output, because we will use binary cross-entropy logit loss which take raw outputs as input. i.e. sigmoid is in logit-loss\\n\\n\\ninput : (bs, 1, 28, 28)\\n      |                                                                                               ---- SUMMARY ----\\n      V\\nConv2d( in_channels = 1, out_channels = 16, kernel_size = (3,3), stride = 2)                           #(bs, 16, 13, 13)\\nBatchNorm2d()                                                                                          #(bs, 16, 13, 13)\\nLeakyReLU()                                                                                            #(bs, 16, 13, 13)\\n      |\\n      V\\nConv2d( in_channels = 16, out_channels = 32, kernel_size = (5,5), stride = 2)                          #(bs, 32, 5, 5)\\nBatchNorm2d()                                                                                          #(bs, 32, 5, 5)\\nLeakyReLU()                                                                                            #(bs, 32, 5, 5)\\n      |\\n      V\\nConv2d( in_channels = 32, out_channels = 64, kernel_size = (5,5), stride = 2)                          #(bs, 64, 1, 1)\\nBatchNorm2d()                                                                                          #(bs, 64, 1, 1)\\nLeakyReLU()                                                                                            #(bs, 64, 1, 1)\\n      |\\n      V\\nFlatten()                                                                                              #(bs, 64)\\nLinear(in_features = 64, out_features = 1)                                                             #(bs, 1)\\n\\n'"
            ],
            "application/vnd.google.colaboratory.intrinsic+json": {
              "type": "string"
            }
          },
          "metadata": {},
          "execution_count": 15
        }
      ]
    },
    {
      "cell_type": "code",
      "source": [
        "from torch.nn.modules.activation import LeakyReLU\n",
        "def get_disc_block(in_channels, out_channels, kernel_size, stride):\n",
        "    return nn.Sequential(\n",
        "        nn.Conv2d(in_channels, out_channels, kernel_size, stride),\n",
        "        nn.BatchNorm2d(out_channels),\n",
        "        LeakyReLU(0.2)\n",
        "    )"
      ],
      "metadata": {
        "id": "7XCcwBZ3EdYu"
      },
      "execution_count": 16,
      "outputs": []
    },
    {
      "cell_type": "code",
      "source": [
        "class Discriminator(nn.Module):\n",
        "    def __init__(self):\n",
        "        super(Discriminator, self).__init__()\n",
        "\n",
        "        self.block_1 = get_disc_block(1, 16, (3,3), 2)\n",
        "        self.block_2 = get_disc_block(16, 32, (5,5), 2)\n",
        "        self.block_3 = get_disc_block(32, 64, (5,5), 2)\n",
        "\n",
        "        self.flatten = nn.Flatten()\n",
        "        self.linear = nn.Linear(in_features=64, out_features=1)\n",
        "\n",
        "    def forward(self, images):\n",
        "        \n",
        "        x1 = self.block_1(images)\n",
        "        x2 = self.block_2(x1)\n",
        "        x3 = self.block_3(x2)\n",
        "\n",
        "        x4 = self.flatten(x3)\n",
        "        x5 = self.linear(x4)\n",
        "\n",
        "        return x5\n"
      ],
      "metadata": {
        "id": "Z3_HFAFWFUUu"
      },
      "execution_count": 17,
      "outputs": []
    },
    {
      "cell_type": "code",
      "source": [
        "D = Discriminator()\n",
        "D.to(device)\n",
        "\n",
        "summary(D, input_size = (1,28,28))"
      ],
      "metadata": {
        "colab": {
          "base_uri": "https://localhost:8080/"
        },
        "id": "UgtSF72KHkyN",
        "outputId": "aba576a1-7d0a-4c7b-c5b2-3b572a7281ea"
      },
      "execution_count": 18,
      "outputs": [
        {
          "output_type": "stream",
          "name": "stdout",
          "text": [
            "----------------------------------------------------------------\n",
            "        Layer (type)               Output Shape         Param #\n",
            "================================================================\n",
            "            Conv2d-1           [-1, 16, 13, 13]             160\n",
            "       BatchNorm2d-2           [-1, 16, 13, 13]              32\n",
            "         LeakyReLU-3           [-1, 16, 13, 13]               0\n",
            "            Conv2d-4             [-1, 32, 5, 5]          12,832\n",
            "       BatchNorm2d-5             [-1, 32, 5, 5]              64\n",
            "         LeakyReLU-6             [-1, 32, 5, 5]               0\n",
            "            Conv2d-7             [-1, 64, 1, 1]          51,264\n",
            "       BatchNorm2d-8             [-1, 64, 1, 1]             128\n",
            "         LeakyReLU-9             [-1, 64, 1, 1]               0\n",
            "          Flatten-10                   [-1, 64]               0\n",
            "           Linear-11                    [-1, 1]              65\n",
            "================================================================\n",
            "Total params: 64,545\n",
            "Trainable params: 64,545\n",
            "Non-trainable params: 0\n",
            "----------------------------------------------------------------\n",
            "Input size (MB): 0.00\n",
            "Forward/backward pass size (MB): 0.08\n",
            "Params size (MB): 0.25\n",
            "Estimated Total Size (MB): 0.33\n",
            "----------------------------------------------------------------\n"
          ]
        }
      ]
    },
    {
      "cell_type": "markdown",
      "source": [
        "## Create Generator network\n",
        "\n",
        "We need to take the noise, shape (64,1) and generate picture as (1,28,28)\n",
        "\n",
        "The 64 will be the number of channels. So on each channel, we only have one input, but we need to generate a picture 28 x 28. We need up-sampling\n",
        "\n",
        "The technic used is ConvTranspose2d. # 叫做反卷积或者转置卷积\n"
      ],
      "metadata": {
        "id": "9xEqmHktH0YN"
      }
    },
    {
      "cell_type": "markdown",
      "source": [
        "### 转置卷积\n",
        "\n",
        "具体操作\n",
        "\n",
        "原图输入尺寸为【1，3，3，3】对应【batch_size,channels,width,height】\n",
        "反卷积tconv = nn.ConvTranspose2d(3,3,3,stride=2,padding=1)\n",
        "\n",
        "#### 第一步：对输入的特征图做插值，在原先高宽方向的每两个相邻中间插上（Stride−1）列0，如下图所示，原来的尺寸为3*3，因为stride=2,则是在相邻行（列）之间插入(2-1)行（列）0\n",
        "\n",
        "插入后的尺寸为为：height = height+(height-1)*(stride-1),这里也就是h=3+(2-1)(3-1)=5,即插值过后的 特征图为5*5\n",
        "\n",
        "![insert_zeros.webp](data:image/webp;base64,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)\n",
        "\n",
        "\n",
        "#### 第二步：求新的卷积核设置\n",
        "\n",
        "新卷积核的kernel_new不变为3，stride_new恒为1，padding_new =(kernel_size - padding - 1) = 1\n",
        "\n",
        "#### 第三步：用新的卷积核在新的特征图上做常规的卷积，得到的结果就是逆卷积的结果。\n",
        "\n",
        "即在5*5的特征图上执行nn.conv(1,3,3,stride = 1,padding = 1),最后输出的特征图尺寸为：(5-3+2*1)/1+1=5\n",
        "\n",
        "如下图，一个3x3的图像，通过反卷积成为5x5的图像\n",
        "\n",
        "![ConvTranspose.webp](data:image/webp;base64,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)\n",
        "\n",
        "反卷积核的确定\n",
        "卷积核的确定方式主要有两种，一是通过双线性插值固定卷积核的参数，不随着学习过程更新；二是随机初始化，并随着学习过程更新。\n",
        "\n",
        "个人觉得随机初始化可能效果更好一点"
      ],
      "metadata": {
        "id": "cacd88o5Mx9E"
      }
    },
    {
      "cell_type": "code",
      "source": [
        "'''\n",
        "双线性插值固定卷积核参数代码\n",
        "\n",
        "# 定义 bilinear kernel\n",
        "def bilinear_kernel(in_channels, out_channels, kernel_size):\n",
        "    #return a bilinear filter tensor\n",
        "    factor = (kernel_size + 1) // 2\n",
        "    if kernel_size % 2 == 1:\n",
        "        center = factor - 1\n",
        "    else:\n",
        "        center = factor - 0.5\n",
        "    og = np.ogrid[:kernel_size, :kernel_size]\n",
        "    filt = (1 - abs(og[0] - center) / factor) * (1 - abs(og[1] - center) / factor)\n",
        "    weight = np.zeros((in_channels, out_channels, kernel_size, kernel_size), dtype='float32')\n",
        "    weight[range(in_channels), range(out_channels), :, :] = filt\n",
        "    return torch.from_numpy(weight)\n",
        "\n",
        "'''"
      ],
      "metadata": {
        "id": "8S4xEF0yN3Wc",
        "colab": {
          "base_uri": "https://localhost:8080/",
          "height": 53
        },
        "outputId": "12f102d4-006f-46ec-8bc5-edb7e58fc2f7"
      },
      "execution_count": 19,
      "outputs": [
        {
          "output_type": "execute_result",
          "data": {
            "text/plain": [
              "\"\\n双线性插值固定卷积核参数代码\\n\\n# 定义 bilinear kernel\\ndef bilinear_kernel(in_channels, out_channels, kernel_size):\\n    #return a bilinear filter tensor\\n    factor = (kernel_size + 1) // 2\\n    if kernel_size % 2 == 1:\\n        center = factor - 1\\n    else:\\n        center = factor - 0.5\\n    og = np.ogrid[:kernel_size, :kernel_size]\\n    filt = (1 - abs(og[0] - center) / factor) * (1 - abs(og[1] - center) / factor)\\n    weight = np.zeros((in_channels, out_channels, kernel_size, kernel_size), dtype='float32')\\n    weight[range(in_channels), range(out_channels), :, :] = filt\\n    return torch.from_numpy(weight)\\n\\n\""
            ],
            "application/vnd.google.colaboratory.intrinsic+json": {
              "type": "string"
            }
          },
          "metadata": {},
          "execution_count": 19
        }
      ]
    },
    {
      "cell_type": "code",
      "source": [
        "'''\n",
        "\n",
        "Network : Generator \n",
        "\n",
        "z_dim = 64\n",
        "input : (bs,z_dim)\n",
        "\n",
        "      |\n",
        "      | Reshape\n",
        "      V\n",
        "\n",
        "input : (bs, channel, height, width) -> (bs, z_dim , 1 , 1)                                            \n",
        "      |                                                                                               ---- SUMMARY ----\n",
        "      V\n",
        "ConvTranspose2d( in_channels = z_dim, out_channels = 256, kernel_size = (3,3), stride = 2)             #(bs, 256, 3, 3)\n",
        "BatchNorm2d()                                                                                          #(bs, 256, 3, 3)\n",
        "ReLU()                                                                                                 #(bs, 256, 3, 3)\n",
        "      |\n",
        "      V\n",
        "ConvTranspose2d( in_channels = 256, out_channels = 128, kernel_size = (4,4), stride = 1)               #(bs, 128, 6, 6)\n",
        "BatchNorm2d()                                                                                          #(bs, 128, 6, 6)\n",
        "ReLU()                                                                                                 #(bs, 128, 6, 6)\n",
        "      |\n",
        "      V\n",
        "ConvTranspose2d( in_channels = 128, out_channels = 64, kernel_size = (3,3), stride = 2)                #(bs, 64, 13, 13)\n",
        "BatchNorm2d()                                                                                          #(bs, 64, 13, 13)\n",
        "ReLU()                                                                                                 #(bs, 64, 13, 13)\n",
        "      |\n",
        "      V\n",
        "ConvTranspose2d( in_channels = 64, out_channels = 1, kernel_size = (4,4), stride = 2)                  #(bs, 1, 28, 28)\n",
        "Tanh()                                                                                                 #(bs, 1, 28, 28)\n",
        "\n",
        "'''"
      ],
      "metadata": {
        "colab": {
          "base_uri": "https://localhost:8080/",
          "height": 87
        },
        "id": "KzDp-h21JmVw",
        "outputId": "4c136058-54a5-4e0f-ab51-b677c93a5e3b"
      },
      "execution_count": 20,
      "outputs": [
        {
          "output_type": "execute_result",
          "data": {
            "text/plain": [
              "'\\n\\nNetwork : Generator \\n\\nz_dim = 64\\ninput : (bs,z_dim)\\n\\n      |\\n      | Reshape\\n      V\\n\\ninput : (bs, channel, height, width) -> (bs, z_dim , 1 , 1)                                            \\n      |                                                                                               ---- SUMMARY ----\\n      V\\nConvTranspose2d( in_channels = z_dim, out_channels = 256, kernel_size = (3,3), stride = 2)             #(bs, 256, 3, 3)\\nBatchNorm2d()                                                                                          #(bs, 256, 3, 3)\\nReLU()                                                                                                 #(bs, 256, 3, 3)\\n      |\\n      V\\nConvTranspose2d( in_channels = 256, out_channels = 128, kernel_size = (4,4), stride = 1)               #(bs, 128, 6, 6)\\nBatchNorm2d()                                                                                          #(bs, 128, 6, 6)\\nReLU()                                                                                                 #(bs, 128, 6, 6)\\n      |\\n      V\\nConvTranspose2d( in_channels = 128, out_channels = 64, kernel_size = (3,3), stride = 2)                #(bs, 64, 13, 13)\\nBatchNorm2d()                                                                                          #(bs, 64, 13, 13)\\nReLU()                                                                                                 #(bs, 64, 13, 13)\\n      |\\n      V\\nConvTranspose2d( in_channels = 64, out_channels = 1, kernel_size = (4,4), stride = 2)                  #(bs, 1, 28, 28)\\nTanh()                                                                                                 #(bs, 1, 28, 28)\\n\\n'"
            ],
            "application/vnd.google.colaboratory.intrinsic+json": {
              "type": "string"
            }
          },
          "metadata": {},
          "execution_count": 20
        }
      ]
    },
    {
      "cell_type": "code",
      "source": [
        "def get_gen_block(in_channels, out_channels, kernel_size, stride, final_block = False):\n",
        "    if final_block == True:\n",
        "        return nn.Sequential(\n",
        "            nn.ConvTranspose2d(in_channels, out_channels, kernel_size, stride),\n",
        "            nn.Tanh()\n",
        "        )\n",
        "        \n",
        "    return nn.Sequential(\n",
        "        nn.ConvTranspose2d(in_channels, out_channels, kernel_size, stride),\n",
        "        nn.BatchNorm2d(out_channels),\n",
        "        nn.ReLU()\n",
        "    )"
      ],
      "metadata": {
        "id": "FN6JEw2bOT8N"
      },
      "execution_count": 21,
      "outputs": []
    },
    {
      "cell_type": "code",
      "source": [
        "class Generator(nn.Module):\n",
        "    def __init__(self, noise_dim):\n",
        "        super(Generator,self).__init__()\n",
        "\n",
        "        self.noise_dim = noise_dim\n",
        "\n",
        "        self.block_1 = get_gen_block(noise_dim, 256, (3,3), 2)\n",
        "        self.block_2 = get_gen_block(256, 128, (4,4), 1)\n",
        "        self.block_3 = get_gen_block(128, 64, (3,3), 2)\n",
        "\n",
        "        self.block_4 = get_gen_block(64, 1, (4,4), 2, final_block=True)\n",
        "\n",
        "    def forward(self, r_noise_vec):\n",
        "        # (bs, noise_dim) -> (bs, noise_dim, 1, 1)\n",
        "        x = r_noise_vec.view(-1, self.noise_dim, 1, 1)\n",
        "\n",
        "        x1 = self.block_1(x)\n",
        "        x2 = self.block_2(x1)\n",
        "        x3 = self.block_3(x2)\n",
        "        x4 = self.block_4(x3)\n",
        "\n",
        "        return x4"
      ],
      "metadata": {
        "id": "qeXa9xGrPXxe"
      },
      "execution_count": 22,
      "outputs": []
    },
    {
      "cell_type": "code",
      "source": [
        "G = Generator(noise_dim)\n",
        "G.to(device)\n",
        "\n",
        "summary(G, input_size = (1, noise_dim))"
      ],
      "metadata": {
        "colab": {
          "base_uri": "https://localhost:8080/"
        },
        "id": "FYYnsveHRB20",
        "outputId": "73fd38b2-5473-4c42-87af-c852aa87d0c3"
      },
      "execution_count": 23,
      "outputs": [
        {
          "output_type": "stream",
          "name": "stdout",
          "text": [
            "----------------------------------------------------------------\n",
            "        Layer (type)               Output Shape         Param #\n",
            "================================================================\n",
            "   ConvTranspose2d-1            [-1, 256, 3, 3]         147,712\n",
            "       BatchNorm2d-2            [-1, 256, 3, 3]             512\n",
            "              ReLU-3            [-1, 256, 3, 3]               0\n",
            "   ConvTranspose2d-4            [-1, 128, 6, 6]         524,416\n",
            "       BatchNorm2d-5            [-1, 128, 6, 6]             256\n",
            "              ReLU-6            [-1, 128, 6, 6]               0\n",
            "   ConvTranspose2d-7           [-1, 64, 13, 13]          73,792\n",
            "       BatchNorm2d-8           [-1, 64, 13, 13]             128\n",
            "              ReLU-9           [-1, 64, 13, 13]               0\n",
            "  ConvTranspose2d-10            [-1, 1, 28, 28]           1,025\n",
            "             Tanh-11            [-1, 1, 28, 28]               0\n",
            "================================================================\n",
            "Total params: 747,841\n",
            "Trainable params: 747,841\n",
            "Non-trainable params: 0\n",
            "----------------------------------------------------------------\n",
            "Input size (MB): 0.00\n",
            "Forward/backward pass size (MB): 0.42\n",
            "Params size (MB): 2.85\n",
            "Estimated Total Size (MB): 3.27\n",
            "----------------------------------------------------------------\n"
          ]
        }
      ]
    },
    {
      "cell_type": "code",
      "source": [
        "# Replace Random initialized weights to Normal weights\n",
        "'''\n",
        "正态分布初始化\n",
        "torch.nn.init.normal_(tensor, mean=0, std=1)\n",
        "\n",
        "使值服从正态分布N(mean, std)，默认值为0，1\n",
        "'''\n",
        "\n",
        "def weights_init(m):  \n",
        "    if isinstance(m, nn.Conv2d) or isinstance(m, nn.ConvTranspose2d):\n",
        "        nn.init.normal_(m.weight, 0.0, 0.02)\n",
        "    if isinstance(m, nn.BatchNorm2d):\n",
        "        nn.init.normal_(m.weight, 0.0, 0.02)\n",
        "        nn.init.constant_(m.bias, 0)"
      ],
      "metadata": {
        "id": "8MQIAfbgRMms"
      },
      "execution_count": 24,
      "outputs": []
    },
    {
      "cell_type": "code",
      "source": [
        "D = D.apply(weights_init)\n",
        "G = G.apply(weights_init)"
      ],
      "metadata": {
        "id": "Yiv_oLi1RhzN"
      },
      "execution_count": 25,
      "outputs": []
    },
    {
      "cell_type": "markdown",
      "source": [
        "## Create Loss Function Load Optimizer\n",
        "\n",
        "Two Loss functions, Real and Fake Loss\n",
        "\n",
        "For discriminator, we using binary cross entropy as loss function, defined as following \n",
        "$$ H(P|Q) = -(plogq + (1-p)log(1-q) $$\n",
        "\n",
        "If the image is coming from real, P=1, we have real loss defined as $-(1*logD(x_r) + (1-1)*log(1-D(x_r)) = -logD(x_r)$\n",
        "\n",
        "If the image is coming from fake, P=0, we have fake loss defined as $-(0*logD(x_f) + (1-0)*log(1-D(x_f)) = -log(1-D(x_f))$\n"
      ],
      "metadata": {
        "id": "hv5w48ZRo-s3"
      }
    },
    {
      "cell_type": "code",
      "source": [
        "def real_loss(disc_pred):\n",
        "    criterion = nn.BCEWithLogitsLoss()\n",
        "    ground_truth = torch.ones_like(disc_pred)\n",
        "    loss = criterion(disc_pred, ground_truth)\n",
        "    return loss\n",
        "\n",
        "def fake_loss(disc_pred):\n",
        "    criterion = nn.BCEWithLogitsLoss()\n",
        "    ground_truth = torch.zeros_like(disc_pred)\n",
        "    loss = criterion(disc_pred, ground_truth)\n",
        "    return loss"
      ],
      "metadata": {
        "id": "WnoS5UmdpEGO"
      },
      "execution_count": 26,
      "outputs": []
    },
    {
      "cell_type": "code",
      "source": [
        "D_opt = torch.optim.Adam(D.parameters(), lr = lr, betas = (beta_1, beta_2))\n",
        "G_opt = torch.optim.Adam(G.parameters(), lr = lr, betas = (beta_1, beta_2))\n"
      ],
      "metadata": {
        "id": "X0x-mmsUuuek"
      },
      "execution_count": 27,
      "outputs": []
    },
    {
      "cell_type": "markdown",
      "source": [
        "## Training Loop"
      ],
      "metadata": {
        "id": "R6SPYsN0vInV"
      }
    }
  ]
}